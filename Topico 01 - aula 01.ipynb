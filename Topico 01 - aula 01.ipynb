{
 "cells": [
  {
   "cell_type": "code",
   "execution_count": 6,
   "id": "dc98622e-7fac-49aa-b918-37b84c6b3688",
   "metadata": {
    "tags": []
   },
   "outputs": [
    {
     "name": "stdout",
     "output_type": "stream",
     "text": [
      "Olá mundo!\n"
     ]
    }
   ],
   "source": [
    "print(\"Olá mundo!\")"
   ]
  },
  {
   "cell_type": "markdown",
   "id": "374c76af-0fcc-40f8-95f9-614379626531",
   "metadata": {},
   "source": [
    "# Bem vindos ao curso de Python para Data Science \n",
    "# Tópico 01 - Aula 01\n",
    "\n",
    "**Texto em negrito**\n",
    "\n",
    "*Texto itálico*\n",
    "\n",
    "_Texto itálico_\n",
    "\n",
    "Lista:\n",
    "* Item 01\n",
    "* Item 02\n",
    "* Item 03\n",
    "    * Subitem 03\n",
    "    \n",
    "1. Item 01\n",
    "    1. Subitem 01\n",
    "    2. Subitem 02"
   ]
  },
  {
   "cell_type": "code",
   "execution_count": 17,
   "id": "5f4d2621-9a49-454f-a4cc-a76d52ee5c54",
   "metadata": {},
   "outputs": [
    {
     "name": "stdout",
     "output_type": "stream",
     "text": [
      "Nome: Henrique\n",
      "42\n"
     ]
    }
   ],
   "source": [
    "import numpy\n",
    "#isso é um comnetário\n",
    "\n",
    "idade = 25\n",
    "idade = idade + 1\n",
    "nome = \"Henrique\"\n",
    "veiculo = \"ford\"\n",
    "aluno2 = \"luiz\"\n",
    "idade = 2+20*2 #primeiro 20*2 depois soma 2\n",
    "\n",
    "print(\"Nome: \" + nome)\n",
    "print(idade)"
   ]
  },
  {
   "cell_type": "code",
   "execution_count": 23,
   "id": "492deb89-d5cd-476a-b51f-9511e1aa0293",
   "metadata": {},
   "outputs": [
    {
     "name": "stdout",
     "output_type": "stream",
     "text": [
      "25\n",
      "1.8\n"
     ]
    },
    {
     "data": {
      "text/plain": [
       "3"
      ]
     },
     "execution_count": 23,
     "metadata": {},
     "output_type": "execute_result"
    }
   ],
   "source": [
    "#divisão inteira:\n",
    "10//3\n",
    "\n",
    "#potencia\n",
    "8**2\n",
    "\n",
    "#resto da divisão:\n",
    "63%4\n",
    "\n",
    "#casas decimais são separdas por ponto e não por virgula\n",
    "altura = 1.80\n",
    "\n",
    "#a virgula é utilizada para separar números a serem atribuidos\n",
    "idade, altura = 25,1.80\n",
    "print(idade)\n",
    "print(altura)\n",
    "\n",
    "#Quiz: qual o reesultado? R.: 3\n",
    "7*3**2%4"
   ]
  },
  {
   "cell_type": "code",
   "execution_count": 26,
   "id": "e8aee0d5-1a66-4019-a441-bb5aee4b51ab",
   "metadata": {},
   "outputs": [
    {
     "name": "stdout",
     "output_type": "stream",
     "text": [
      "26 Henrique\n"
     ]
    }
   ],
   "source": [
    "#incremento\n",
    "idade = 25\n",
    "idade += 1 #idade = idade + 1\n",
    "print(idade,nome)"
   ]
  },
  {
   "cell_type": "code",
   "execution_count": 28,
   "id": "bd88f98c-156d-4b04-8ff3-4815171ce533",
   "metadata": {},
   "outputs": [
    {
     "name": "stdin",
     "output_type": "stream",
     "text": [
      "Qual o seu nome? vivian\n"
     ]
    },
    {
     "name": "stdout",
     "output_type": "stream",
     "text": [
      "O seu nome é  vivian\n"
     ]
    }
   ],
   "source": [
    "#input - lendo informações do teclado\n",
    "nome = input(\"Qual o seu nome?\")\n",
    "print(\"O seu nome é \",nome)"
   ]
  },
  {
   "cell_type": "code",
   "execution_count": 51,
   "id": "3966ef17-e977-4b55-9e3b-a925156b3c00",
   "metadata": {},
   "outputs": [
    {
     "name": "stdout",
     "output_type": "stream",
     "text": [
      "meu nome é \"Vivian\"\n"
     ]
    }
   ],
   "source": [
    "#tipo\n",
    "type(42)\n",
    "\n",
    "#numeros complexos\n",
    "type(1+42j)\n",
    "\n",
    "type(42_00)\n",
    "\n",
    "#boolean\n",
    "condição = True\n",
    "condição = False\n",
    "\n",
    "float(idade)\n",
    "\n",
    "#alterando o tipo do dado\n",
    "idade = float(idade)\n",
    "type(idade)\n",
    "\n",
    "bool(1) #true\n",
    "bool(0) #false\n",
    "bool(\"\") #false\n",
    "bool(\"vivian\") #true\n"
   ]
  },
  {
   "cell_type": "code",
   "execution_count": 104,
   "id": "bd05f4bf-e963-449a-b5f2-a0e3c6aabac4",
   "metadata": {},
   "outputs": [
    {
     "name": "stdout",
     "output_type": "stream",
     "text": [
      "meu nome é Vivian\n"
     ]
    },
    {
     "data": {
      "text/plain": [
       "'nm  ii'"
      ]
     },
     "execution_count": 104,
     "metadata": {},
     "output_type": "execute_result"
    }
   ],
   "source": [
    "#para texto pode usar \"\" ou ''\n",
    "print('meu nome é Vivian')\n",
    "s = 'meu nome é Vivian'\n",
    "\n",
    "#quinto caracter\n",
    "s[4] #'n'\n",
    "\n",
    "#fatiamento - inclui o limite menor e exclui o maior\n",
    "s[4:8] #'nome'\n",
    "\n",
    "#fatiamento de trás para frente\n",
    "s[4:-2] #'nome é Vivi'\n",
    "\n",
    "#fatiamento do inicio do texto\n",
    "s[:-2] #'meu nome é Vivi'\n",
    "\n",
    "#fatiamento até o ultimo caracter\n",
    "s[4:] #'nome é Vivian'\n",
    "\n",
    "#fatiamento parcelado\n",
    "s[4:15:2] #'nm  ii'"
   ]
  },
  {
   "cell_type": "code",
   "execution_count": 108,
   "id": "2aabe13d-10d2-4de6-9fd0-e2b78a6f6b4f",
   "metadata": {},
   "outputs": [
    {
     "name": "stdout",
     "output_type": "stream",
     "text": [
      "meu nome é Vivian dos Reis\n",
      "843 ns ± 1.84 ns per loop (mean ± std. dev. of 7 runs, 1000000 loops each)\n"
     ]
    }
   ],
   "source": [
    "#string é imutável\n",
    "\n",
    "#atribuindo string\n",
    "s = 'meu nome é Vivian'\n",
    "s = s + ' dos Reis' #meu nome é Vivian dos Reis\n",
    "print(s)\n",
    "\n",
    "#tamanho da string\n",
    "len(s) #26\n",
    "\n",
    "#procurar: -1 = não consta; diferente de -1 = consta\n",
    "s.find('Vivian') #11\n",
    "\n",
    "#substituir\n",
    "s.replace('Vivian','Maria')\n",
    "\n",
    "#separar string em pedaços\n",
    "s.split() #['meu', 'nome', 'é', 'Vivian', 'dos', 'Reis']\n",
    "\n",
    "#convertendo string - maiuscula\n",
    "s.upper().find(\"VIVIAN\") #11\n",
    "\n",
    "#convertendo string - minuscula\n",
    "s.lower() #'meu nome é vivian dos reis'\n",
    "\n",
    "#inserir numero dentro da string\n",
    "s = \"minha idade é {} e minha altura é {}\".format(42,1.80)\n",
    "s #'minha idade é 42 e minha altura é 1.8'\n",
    "\n",
    "#informando os indices\n",
    "s = \"minha idade é {1} e minha altura é {0}\".format(42,1.80)\n",
    "s #'minha idade é 1.8 e minha altura é 42'\n",
    "\n",
    "#informando os indices e formatando os valores\n",
    "s = \"minha idade é {0} e minha altura é {1:10.3f}\".format(42,1.80) #10: espaço;.3f: float\n",
    "s #'minha idade é 42 e minha altura é      1.800'\n",
    "\n",
    "#alinhando a esquerda\n",
    "s = \"minha idade é {0} e minha altura é {1:<10.3f}\".format(42,1.80)\n",
    "s #'minha idade é 42 e minha altura é 1.800     '\n",
    "\n",
    "#alinhando a direita\n",
    "s = \"minha idade é {0} e minha altura é {1:>10.3f}\".format(42,1.80)\n",
    "\n",
    "#centralizado\n",
    "s = \"minha idade é {0} e minha altura é {1:^10.3f}\".format(42,1.80)\n",
    "\n",
    "#tempo médio\n",
    "%timeit s = \"minha idade é {0} e minha altura é {1:<10.3f}\".format(idade,altura)\n",
    "#843 ns ± 1.84 ns per loop (mean ± std. dev. of 7 runs, 1000000 loops each)"
   ]
  },
  {
   "cell_type": "code",
   "execution_count": 112,
   "id": "1f5e7cd9-44de-427e-ba18-8a66443bb25a",
   "metadata": {},
   "outputs": [
    {
     "name": "stdout",
     "output_type": "stream",
     "text": [
      "15 20\n"
     ]
    }
   ],
   "source": [
    "#python é case senstive\n",
    "idade =15\n",
    "Idade = 20\n",
    "print(idade,Idade)"
   ]
  },
  {
   "cell_type": "code",
   "execution_count": 138,
   "id": "43041918-d5df-4946-92a6-a942fb8bb48f",
   "metadata": {},
   "outputs": [
    {
     "name": "stdout",
     "output_type": "stream",
     "text": [
      "Seu velho\n",
      "Novo ainda\n",
      "Você é muito velho\n",
      "Você é muito velho\n",
      "Você já pode ser preso\n",
      "Você não tem 18 anos\n"
     ]
    }
   ],
   "source": [
    "#estrutura de repetição if/else\n",
    "if(idade > 10):\n",
    "    print(\"Seu velho\")\n",
    "if(idade <= 10):\n",
    "    print(\"Novo ainda\")\n",
    "#Seu velho\n",
    "\n",
    "if(idade > 90):\n",
    "    print(\"Você é muito velho\")\n",
    "else:\n",
    "    print(\"Novo ainda\")\n",
    "#Novo ainda\n",
    "\n",
    "#elif\n",
    "idade = 95\n",
    "if(idade > 90):\n",
    "    print(\"Você é muito velho\")\n",
    "else:\n",
    "    if(idade > 10):\n",
    "        print(\"um pouco velho\")\n",
    "#ou\n",
    "\n",
    "if(idade > 90):\n",
    "    print(\"Você é muito velho\")\n",
    "elif(idade > 10):\n",
    "    print(\"um pouco velho\")\n",
    "    \n",
    "#igual\n",
    "idade = 18\n",
    "if(idade == 18):\n",
    "    print(\"Você já pode ser preso\")\n",
    "\n",
    "#diferente\n",
    "idade += 1\n",
    "if(idade != 18):\n",
    "    print(\"Você não tem 18 anos\")"
   ]
  },
  {
   "cell_type": "code",
   "execution_count": 142,
   "id": "767b6758-19e8-4ebb-9a9d-df5b8d75f976",
   "metadata": {},
   "outputs": [
    {
     "name": "stdout",
     "output_type": "stream",
     "text": [
      "Já pode ser preso\n"
     ]
    }
   ],
   "source": [
    "#função ternária\n",
    "idade = 18\n",
    "texto = \"Já pode ser preso\" if (idade >= 18) else \"Tá tranquilo\"\n",
    "print(texto)\n",
    "#Já pode ser preso"
   ]
  },
  {
   "cell_type": "code",
   "execution_count": 147,
   "id": "62e20e32-5602-45e7-9adc-74e343884a3c",
   "metadata": {},
   "outputs": [
    {
     "name": "stdout",
     "output_type": "stream",
     "text": [
      "Já pode ser preso\n"
     ]
    }
   ],
   "source": [
    "#AND e OR\n",
    "if(idade < 18 and altura < 2):\n",
    "    print(texto)\n",
    "    \n",
    "if(idade < 18 or altura < 2):\n",
    "    print(texto)\n",
    "    #Já pode ser preso"
   ]
  },
  {
   "cell_type": "code",
   "execution_count": 149,
   "id": "ada21ee9-520b-4aa9-8876-0f35d890c1f1",
   "metadata": {},
   "outputs": [
    {
     "name": "stdout",
     "output_type": "stream",
     "text": [
      "Olá\n",
      "Olá\n",
      "Olá\n",
      "Olá\n",
      "Olá\n",
      "Olá\n",
      "Olá\n",
      "Olá\n",
      "Olá\n",
      "Olá\n"
     ]
    }
   ],
   "source": [
    "#WHILE\n",
    "contador = 10\n",
    "\n",
    "while(contador > 0):\n",
    "    contador -= 1\n",
    "    print(\"Olá\")\n",
    "#Olá\n",
    "#Olá\n",
    "#Olá\n",
    "#Olá\n",
    "#Olá\n",
    "#Olá\n",
    "#Olá\n",
    "#Olá\n",
    "#Olá\n",
    "#Olá"
   ]
  },
  {
   "cell_type": "code",
   "execution_count": 151,
   "id": "c1711652-4bba-43c1-a67d-27065ee4d122",
   "metadata": {},
   "outputs": [
    {
     "name": "stdout",
     "output_type": "stream",
     "text": [
      "Olá\n",
      "Olá\n",
      "Olá\n",
      "Olá\n",
      "Olá\n",
      "Olá\n",
      "Olá\n",
      "Olá\n",
      "Olá\n",
      "Olá\n",
      "Mundo\n"
     ]
    }
   ],
   "source": [
    "#WHILE ELSE\n",
    "contador = 10\n",
    "\n",
    "while(contador > 0):\n",
    "    contador -= 1\n",
    "    print(\"Olá\")\n",
    "else:\n",
    "    print(\"Mundo\")\n",
    "#Olá\n",
    "#Olá\n",
    "#Olá\n",
    "#Olá\n",
    "#Olá\n",
    "#Olá\n",
    "#Olá\n",
    "#Olá\n",
    "#Olá\n",
    "#Olá\n",
    "#Mundo"
   ]
  },
  {
   "cell_type": "code",
   "execution_count": 153,
   "id": "4417b4e7-ab72-48c2-9aa9-351095d61ed8",
   "metadata": {},
   "outputs": [
    {
     "name": "stdout",
     "output_type": "stream",
     "text": [
      "Olá\n",
      "Olá\n",
      "Olá\n",
      "Olá\n",
      "Olá\n",
      "Mundo\n"
     ]
    }
   ],
   "source": [
    "#WHILE BREAK\n",
    "contador = 10\n",
    "\n",
    "while(contador > 0):\n",
    "    contador -= 1\n",
    "    print(\"Olá\")\n",
    "    if(contador == 5):\n",
    "        break\n",
    "print(\"Mundo\")\n",
    "\n",
    "#Olá\n",
    "#Olá\n",
    "#Olá\n",
    "#Olá\n",
    "#Olá\n",
    "#Mundo"
   ]
  },
  {
   "cell_type": "code",
   "execution_count": 156,
   "id": "3660e65d-0e7e-4f54-bee3-bdd42765891d",
   "metadata": {},
   "outputs": [
    {
     "name": "stdout",
     "output_type": "stream",
     "text": [
      "2\n",
      "5\n",
      "7\n",
      "9\n",
      "2\n",
      "5\n",
      "7\n",
      "9\n",
      "Acabou\n"
     ]
    }
   ],
   "source": [
    "#FOR\n",
    "lista = [2,5,7,9]\n",
    "for i in lista:\n",
    "    print(i)\n",
    "#2\n",
    "#5\n",
    "#7\n",
    "#9\n",
    "\n",
    "#FOR ELSE\n",
    "for i in lista:\n",
    "    print(i)\n",
    "else:\n",
    "    print(\"Acabou\")\n",
    "#2\n",
    "#5\n",
    "#7\n",
    "#9\n",
    "#Acabou"
   ]
  },
  {
   "cell_type": "markdown",
   "id": "ea05040f-06b6-407d-8281-01eb235b5e70",
   "metadata": {},
   "source": []
  },
  {
   "cell_type": "code",
   "execution_count": null,
   "id": "37ff58a0-d5cc-4ba9-95db-f0ed3ea62d3e",
   "metadata": {},
   "outputs": [],
   "source": []
  }
 ],
 "metadata": {
  "kernelspec": {
   "display_name": "Python 3",
   "language": "python",
   "name": "python3"
  },
  "language_info": {
   "codemirror_mode": {
    "name": "ipython",
    "version": 3
   },
   "file_extension": ".py",
   "mimetype": "text/x-python",
   "name": "python",
   "nbconvert_exporter": "python",
   "pygments_lexer": "ipython3",
   "version": "3.8.8"
  }
 },
 "nbformat": 4,
 "nbformat_minor": 5
}
