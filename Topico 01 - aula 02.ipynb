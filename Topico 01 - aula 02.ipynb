{
 "cells": [
  {
   "cell_type": "markdown",
   "id": "d6cc8ff9-1213-40c2-bbfb-e43f5eb6eb4e",
   "metadata": {},
   "source": [
    "# Tópico 01 - Aula 02"
   ]
  },
  {
   "cell_type": "code",
   "execution_count": 3,
   "id": "77759688-54d5-4479-a5ea-931a5b8df9fe",
   "metadata": {},
   "outputs": [
    {
     "data": {
      "text/plain": [
       "array([[0.87193794, 0.49075618],\n",
       "       [0.82258484, 0.70771006]])"
      ]
     },
     "execution_count": 3,
     "metadata": {},
     "output_type": "execute_result"
    }
   ],
   "source": [
    "import numpy as np\n",
    "\n",
    "#np.random.randint(menorValor,maiorValor,proporção da tabela)\n",
    "np.random.randint(1,10,[2,2])\n",
    "#array([[7, 1],[8, 5]])\n",
    "\n",
    "np.random.rand(2,2)\n",
    "#array([[0.87193794, 0.49075618],[0.82258484, 0.70771006]])\n",
    "\n"
   ]
  }
 ],
 "metadata": {
  "kernelspec": {
   "display_name": "Python 3",
   "language": "python",
   "name": "python3"
  },
  "language_info": {
   "codemirror_mode": {
    "name": "ipython",
    "version": 3
   },
   "file_extension": ".py",
   "mimetype": "text/x-python",
   "name": "python",
   "nbconvert_exporter": "python",
   "pygments_lexer": "ipython3",
   "version": "3.8.8"
  }
 },
 "nbformat": 4,
 "nbformat_minor": 5
}
